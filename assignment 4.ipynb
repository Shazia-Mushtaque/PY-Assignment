{
 "cells": [
  {
   "cell_type": "code",
   "execution_count": 5,
   "metadata": {},
   "outputs": [
    {
     "name": "stdout",
     "output_type": "stream",
     "text": [
      "Ali\n",
      "Ahmed\n",
      "25\n",
      "Islamabad\n",
      "Ali\n",
      "Ahmed\n",
      "25\n",
      "Islamabad\n",
      "Masters\n",
      "{'first_name': 'Ali', 'last_name': 'Ahmed', 'age': 25, 'city': 'Islamabad'}\n",
      "{'first_name': 'Ali', 'last_name': 'Ahmed', 'age': 25, 'city': 'Islamabad', 'highest_academic_level': 'Masters'}\n"
     ]
    }
   ],
   "source": [
    "person = {\n",
    "    'first_name': 'Ali',\n",
    "    'last_name': 'Ahmed',\n",
    "    'age': 25,\n",
    "    'city': 'Islamabad',\n",
    "    }\n",
    "\n",
    "print(person['first_name'])\n",
    "print(person['last_name'])\n",
    "print(person['age'])\n",
    "print(person['city'])\n",
    "\n",
    "person ['qualification'] = 'Masters'\n",
    "\n",
    "print(person['first_name'])\n",
    "print(person['last_name'])\n",
    "print(person['age'])\n",
    "print(person['city'])\n",
    "print(person['qualification'])\n",
    "\n",
    "del person['qualification']\n",
    "\n",
    "print(person)\n",
    "\n",
    "\n",
    "person ['highest_academic_level'] = 'Masters'\n",
    "\n",
    "print(person)"
   ]
  },
  {
   "cell_type": "code",
   "execution_count": 8,
   "metadata": {},
   "outputs": [
    {
     "name": "stdout",
     "output_type": "stream",
     "text": [
      "\n",
      "Islamabad is in Pakistan.\n",
      "  It has a population of about 1433000 people.\n",
      "  The Faisal Mosque is interesting fact about this city.\n",
      "\n",
      "Doha is in Qatar.\n",
      "  It has a population of about 796947 people.\n",
      "  The Museum Of Islamic Arts is interesting fact about this city.\n",
      "\n",
      "London is in England.\n",
      "  It has a population of about 14040163 people.\n",
      "  The Big Ben is interesting fact about this city.\n"
     ]
    }
   ],
   "source": [
    "cities = {\n",
    "    'Islamabad': {\n",
    "        'country': 'Pakistan',\n",
    "        'population': 1433000,\n",
    "        'fact': 'Faisal Mosque',\n",
    "        },\n",
    "    'Doha': {\n",
    "        'country': 'Qatar',\n",
    "        'population': 796947,\n",
    "        'fact': 'Museum of Islamic Arts',\n",
    "        },\n",
    "    'London': {\n",
    "        'country': 'England',\n",
    "        'population': 14040163,\n",
    "        'fact': 'Big ben',\n",
    "        }\n",
    "    }\n",
    "\n",
    "for city, city_info in cities.items():\n",
    "    country = city_info['country'].title()\n",
    "    population = city_info['population']\n",
    "    fact = city_info['fact'].title()\n",
    "\n",
    "    print(\"\\n\" + city.title() + \" is in \" + country + \".\")\n",
    "    print(\"  It has a population of about \" + str(population) + \" people.\")\n",
    "    print(\"  The \" + fact + \" is interesting fact about this city.\")\n"
   ]
  },
  {
   "cell_type": "code",
   "execution_count": 9,
   "metadata": {},
   "outputs": [
    {
     "name": "stdout",
     "output_type": "stream",
     "text": [
      "How old are you?\n",
      "Enter 'quit' when you are finished. 5\n",
      "  Your ticket is $10.\n",
      "How old are you?\n",
      "Enter 'quit' when you are finished. quit\n"
     ]
    }
   ],
   "source": [
    "ticket_prompt = \"How old are you?\"\n",
    "ticket_prompt += \"\\nEnter 'quit' when you are finished. \"\n",
    "\n",
    "while True:\n",
    "    age = input(ticket_prompt)\n",
    "    if age == 'quit':\n",
    "        break\n",
    "    age = int(age)\n",
    "\n",
    "    if age < 3:\n",
    "        print(\"  You get in free!\")\n",
    "    elif age < 13:\n",
    "        print(\"  Your ticket is $10.\")\n",
    "    else:\n",
    "        print(\"  Your ticket is $15.\")\n"
   ]
  },
  {
   "cell_type": "code",
   "execution_count": 12,
   "metadata": {},
   "outputs": [
    {
     "name": "stdout",
     "output_type": "stream",
     "text": [
      " One of my favorite books is Alice in Wonderland.\n"
     ]
    }
   ],
   "source": [
    "#function to display a message about one's favorite book\n",
    "def favorite_book(title):\n",
    "       print(\" One of my favorite books is \" + title + \".\")\n",
    "\n",
    "favorite_book('Alice in Wonderland')\n",
    "\n"
   ]
  },
  {
   "cell_type": "code",
   "execution_count": 20,
   "metadata": {},
   "outputs": [
    {
     "name": "stdout",
     "output_type": "stream",
     "text": [
      "Hello! What is your name?\n",
      "Atyab\n",
      "Well, Atyab, I am thinking of a number between 1 and 30.\n",
      "Take a guess.\n",
      "20\n",
      "Good job, Atyab! You guessed my number in 1 guesses!\n"
     ]
    }
   ],
   "source": [
    "# This is a guess the number game.\n",
    "import random\n",
    "\n",
    "guessesTaken = 0\n",
    "\n",
    "print('Hello! What is your name?')\n",
    "myName = input()\n",
    " \n",
    "number = random.randint(1, 30)\n",
    "print('Well, ' + myName + ', I am thinking of a number between 1 and 30.')\n",
    "\n",
    "while guessesTaken < 3:\n",
    "     print('Take a guess.')  \n",
    "     guess = input()\n",
    "     guess = int(guess)\n",
    "\n",
    "     guessesTaken = guessesTaken + 1\n",
    "\n",
    "     if guess < number:\n",
    "         print('Your guess is too low.') \n",
    "\n",
    "     if guess > number:\n",
    "         print('Your guess is too high.')\n",
    "\n",
    "     if guess == number:\n",
    "         break\n",
    "\n",
    "if guess == number:\n",
    "     guessesTaken = str(guessesTaken)\n",
    "     print('Good job, ' + myName + '! You guessed my number in ' + guessesTaken + ' guesses!')\n",
    "\n",
    "if guess != number:\n",
    "     number = str(number)\n",
    "     print('No. The number I was thinking of was ' + number)\n"
   ]
  },
  {
   "cell_type": "markdown",
   "metadata": {},
   "source": []
  },
  {
   "cell_type": "code",
   "execution_count": null,
   "metadata": {},
   "outputs": [],
   "source": []
  },
  {
   "cell_type": "code",
   "execution_count": null,
   "metadata": {},
   "outputs": [],
   "source": []
  }
 ],
 "metadata": {
  "kernelspec": {
   "display_name": "Python 3",
   "language": "python",
   "name": "python3"
  },
  "language_info": {
   "codemirror_mode": {
    "name": "ipython",
    "version": 3
   },
   "file_extension": ".py",
   "mimetype": "text/x-python",
   "name": "python",
   "nbconvert_exporter": "python",
   "pygments_lexer": "ipython3",
   "version": "3.7.4"
  }
 },
 "nbformat": 4,
 "nbformat_minor": 2
}
